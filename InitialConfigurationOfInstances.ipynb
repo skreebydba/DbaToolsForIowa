{
    "metadata": {
        "kernelspec": {
            "name": "powershell",
            "display_name": "PowerShell",
            "language": "powershell"
        },
        "language_info": {
            "name": "powershell",
            "codemirror_mode": "shell",
            "mimetype": "text/x-sh",
            "file_extension": ".ps1"
        }
    },
    "nbformat_minor": 2,
    "nbformat": 4,
    "cells": [
        {
            "cell_type": "code",
            "source": [
                "$computername = 'localhost';\r\n",
                "$services = Get-DbaService -ComputerName $computername -Type Engine;\r\n",
                "\r\n",
                "foreach($service in $services)\r\n",
                "{   \r\n",
                "    $servicename = $service.ServiceName;\r\n",
                "    $servicecomputer = $service.ComputerName;\r\n",
                "    $serviceinstance = $service.InstanceName;\r\n",
                "    if($servicename -eq 'MSSQLSERVER')\r\n",
                "    {\r\n",
                "        $instancename = $servicecomputer;\r\n",
                "    }\r\n",
                "    else \r\n",
                "    {\r\n",
                "        $instancename = $serviceinstance;\r\n",
                "    }\r\n",
                "    \r\n",
                "    Install-DbaMaintenanceSolution -SqlInstance $instancename -Database master -InstallJobs -CleanupTime 168 -LogToTable -Force;\r\n",
                "    $fullschedule = 'Ola Weekly Full - Sunday 01:00';\r\n",
                "    $diffschedule = 'Ola Daily Diff - 01:00 Except Sunday'\r\n",
                "    $logschedule = 'Ola Daily Log - Every 15 Minutes';\r\n",
                "    $fulljob = 'DatabaseBackup - USER_DATABASES - FULL'\r\n",
                "    $diffjob = 'DatabaseBackup - USER_DATABASES - DIFF'\r\n",
                "    $logjob = 'DatabaseBackup - USER_DATABASES - LOG'\r\n",
                "    $fullsplat = @{\r\n",
                "        SqlInstance = $instancename\r\n",
                "        Schedule = $fullschedule\r\n",
                "        FrequencyType = 'Weekly'\r\n",
                "        FrequencyInterval = 'Sunday'\r\n",
                "        StartTime = '010000'\r\n",
                "        Job = $fulljob\r\n",
                "        #FrequencyRecurrencyFactor = 1\r\n",
                "        Force = $true\r\n",
                "    }\r\n",
                "    $diffsplat = @{\r\n",
                "        SqlInstance = $instancename\r\n",
                "        Schedule = $diffschedule\r\n",
                "        FrequencyType = 'Weekly'\r\n",
                "        StartTime = '010000'\r\n",
                "        Job = $diffjob\r\n",
                "        Force = $true\r\n",
                "    }\r\n",
                "    $logsplat = @{\r\n",
                "        SqlInstance = $instancename\r\n",
                "        Schedule = $logschedule\r\n",
                "        FrequencyType = 'Daily'\r\n",
                "        FrequencySubdayType = 'Minutes'\r\n",
                "        FrequencySubdayInterval = 15\r\n",
                "        Job = $logjob\r\n",
                "        Force = $true\r\n",
                "    }\r\n",
                "    New-DbaAgentSchedule @fullsplat;\r\n",
                "    New-DbaAgentSchedule @diffsplat -FrequencyInterval Weekdays, Saturday;\r\n",
                "    New-DbaAgentSchedule @logsplat;\r\n",
                "}\r\n",
                "\r\n",
                ""
            ],
            "metadata": {
                "azdata_cell_guid": "765bacc0-1dbd-4ac0-902e-6badbf78fdfe",
                "language": "powershell",
                "tags": []
            },
            "outputs": [
                {
                    "name": "stdout",
                    "text": "WARNING: [12:54:55][Install-DbaMaintenanceSolution] The Maintenance Solution already exists in master on FRANK-SKREEBY.\n Use -ReplaceExisting to automatically drop and recreate.\n",
                    "output_type": "stream"
                },
                {
                    "name": "stdout",
                    "text": "\n\nComputerName               : FRANK-SKREEBY\nInstanceName               : MSSQLSERVER\nSqlInstance                : FRANK-SKREEBY\nScheduleName               : Ola Weekly Full - Sunday 01:00\nActiveEndDate              : 12/31/9999 12:00:00 AM\nActiveEndTimeOfDay         : 23:59:59\nActiveStartDate            : 9/5/2022 12:00:00 AM\nActiveStartTimeOfDay       : 01:00:00\nDateCreated                : 9/5/2022 12:54:55 PM\nFrequencyInterval          : 1\nFrequencyRecurrenceFactor  : 1\nFrequencyRelativeIntervals : 0\nFrequencySubDayInterval    : 0\nFrequencySubDayTypes       : Once\nFrequencyTypes             : Weekly\nIsEnabled                  : True\nJobCount                   : 1\nDescription                : Occurs every week on Sunday at 1:00:00 AM. Schedule will be used starting on 9/5/2022.\nScheduleUid                : 6f3a8197-4c54-4fc7-97e8-63c386263f7d\n\n",
                    "output_type": "stream"
                },
                {
                    "name": "stdout",
                    "text": "ComputerName               : FRANK-SKREEBY\nInstanceName               : MSSQLSERVER\nSqlInstance                : FRANK-SKREEBY\nScheduleName               : Ola Daily Diff - 01:00 Except Sunday\nActiveEndDate              : 12/31/9999 12:00:00 AM\nActiveEndTimeOfDay         : 23:59:59\nActiveStartDate            : 9/5/2022 12:00:00 AM\nActiveStartTimeOfDay       : 01:00:00\nDateCreated                : 9/5/2022 12:54:55 PM\nFrequencyInterval          : 126\nFrequencyRecurrenceFactor  : 1\nFrequencyRelativeIntervals : 0\nFrequencySubDayInterval    : 0\nFrequencySubDayTypes       : Once\nFrequencyTypes             : Weekly\nIsEnabled                  : True\nJobCount                   : 1\nDescription                : Occurs every week on Monday, Tuesday, Wednesday, Thursday, Friday, Saturday at 1:00:00 \n                             AM. Schedule will be used starting on 9/5/2022.\nScheduleUid                : 80161e32-18ef-4ef4-8352-d223080b5308\n\n",
                    "output_type": "stream"
                },
                {
                    "name": "stdout",
                    "text": "ComputerName               : FRANK-SKREEBY\nInstanceName               : MSSQLSERVER\nSqlInstance                : FRANK-SKREEBY\nScheduleName               : Ola Daily Log - Every 15 Minutes\nActiveEndDate              : 12/31/9999 12:00:00 AM\nActiveEndTimeOfDay         : 23:59:59\nActiveStartDate            : 9/5/2022 12:00:00 AM\nActiveStartTimeOfDay       : 00:00:00\nDateCreated                : 9/5/2022 12:54:56 PM\nFrequencyInterval          : 1\nFrequencyRecurrenceFactor  : 0\nFrequencyRelativeIntervals : 0\nFrequencySubDayInterval    : 15\nFrequencySubDayTypes       : Minute\nFrequencyTypes             : Daily\nIsEnabled                  : True\nJobCount                   : 1\nDescription                : Occurs every day every 15 minute(s) between 12:00:00 AM and 11:59:59 PM. Schedule will be \n                             used starting on 9/5/2022.\nScheduleUid                : cc5b2bef-efc8-4a06-ab28-ef044af0c5dc\n\n\n\n",
                    "output_type": "stream"
                }
            ],
            "execution_count": 6
        }
    ]
}